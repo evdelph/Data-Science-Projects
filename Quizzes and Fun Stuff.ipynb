{
 "cells": [
  {
   "cell_type": "markdown",
   "metadata": {},
   "source": [
    "# Video Quizzes\n",
    "This notebook is for the computational/coding questions from lecture videos."
   ]
  },
  {
   "cell_type": "code",
   "execution_count": 28,
   "metadata": {},
   "outputs": [],
   "source": [
    "import numpy as np\n",
    "import pandas as pd"
   ]
  },
  {
   "cell_type": "markdown",
   "metadata": {},
   "source": [
    "## Module 3 Quizzes\n",
    "\n",
    "### Quiz 3.7 Constrained Optimization"
   ]
  },
  {
   "cell_type": "code",
   "execution_count": 3,
   "metadata": {},
   "outputs": [
    {
     "data": {
      "text/plain": [
       "1"
      ]
     },
     "execution_count": 3,
     "metadata": {},
     "output_type": "execute_result"
    }
   ],
   "source": [
    "np.argmin(np.square([-2,-1,1,2]))"
   ]
  },
  {
   "cell_type": "markdown",
   "metadata": {},
   "source": [
    "## Module 4 Quizzes\n",
    "### Quiz 4.8 Calculate MSE"
   ]
  },
  {
   "cell_type": "code",
   "execution_count": 87,
   "metadata": {},
   "outputs": [
    {
     "data": {
      "text/plain": [
       "1.0"
      ]
     },
     "execution_count": 87,
     "metadata": {},
     "output_type": "execute_result"
    }
   ],
   "source": [
    "w = np.array([1,2]) # [0,1,2] where 0 is bias\n",
    "x = np.array([[1,2],[2,3]])\n",
    "y = np.array([6,7])\n",
    "n = x.shape[0]\n",
    "MSE = (1/n) * np.sum(np.square(np.dot(w,x) - y))\n",
    "MSE"
   ]
  },
  {
   "cell_type": "markdown",
   "metadata": {},
   "source": [
    "### Quiz 4.9 Gradient Step Update"
   ]
  },
  {
   "cell_type": "code",
   "execution_count": 39,
   "metadata": {},
   "outputs": [
    {
     "data": {
      "text/plain": [
       "array([1.2, 0.4, 1.6])"
      ]
     },
     "execution_count": 39,
     "metadata": {},
     "output_type": "execute_result"
    }
   ],
   "source": [
    "X = np.array([1,2,3]) # augment [2,3] to [1,2,3]\n",
    "y = 6\n",
    "alpha = .1\n",
    "W = np.array([1,0,1])\n",
    "gradient= X.dot(X.dot(W) - y) # X*(yhat - y)\n",
    "W = W - gradient*alpha # Graduent update\n",
    "W"
   ]
  },
  {
   "cell_type": "markdown",
   "metadata": {},
   "source": [
    "## Module 6 Quizzes\n",
    "### Quiz 6.2 Probability Basics"
   ]
  },
  {
   "cell_type": "code",
   "execution_count": 47,
   "metadata": {},
   "outputs": [
    {
     "name": "stdout",
     "output_type": "stream",
     "text": [
      "P(AUB) == P(A) + P(B) True\n",
      "P(AUB) == P(A) + P(B) - P(A & B) True\n",
      "P(AUB) == P(A|B) False\n",
      "P(AUB) == P(A)*P(B) False\n"
     ]
    }
   ],
   "source": [
    "p_a = .4\n",
    "p_b = .6\n",
    "p_a_and_b = 0\n",
    "p_a_or_b = p_a + p_b - p_a_and_b\n",
    "print(f'P(AUB) == P(A) + P(B) {p_a + p_b == 1}')\n",
    "print(f'P(AUB) == P(A) + P(B) - P(A & B) {p_a + p_b == p_a_or_b}')\n",
    "print(f'P(AUB) == P(A|B) {p_a_and_b/p_b == 1}')\n",
    "print(f'P(AUB) == P(A)*P(B) {p_a*p_b == 1}')"
   ]
  },
  {
   "cell_type": "markdown",
   "metadata": {},
   "source": [
    "### Quiz 6.3 Disjoing probabilities"
   ]
  },
  {
   "cell_type": "code",
   "execution_count": 51,
   "metadata": {},
   "outputs": [
    {
     "name": "stdout",
     "output_type": "stream",
     "text": [
      "P(A) + P(B) - 0 == False\n"
     ]
    }
   ],
   "source": [
    "# Disjoint means P(A & B) == 0\n",
    "p_a = .6\n",
    "p_b = .7\n",
    "pa_and_b = 0\n",
    "print(f'P(A) + P(B) - 0 == { p_a+p_b-pa_and_b == 1}')"
   ]
  },
  {
   "cell_type": "markdown",
   "metadata": {},
   "source": [
    "### Quiz 6.4 Confidence Intervals"
   ]
  },
  {
   "cell_type": "code",
   "execution_count": 91,
   "metadata": {},
   "outputs": [
    {
     "name": "stdout",
     "output_type": "stream",
     "text": [
      "0.83\n",
      "0.83\n"
     ]
    }
   ],
   "source": [
    "# Confidence Intervals\n",
    "p = 1 - .2\n",
    "n = 1000\n",
    "z = 2\n",
    "# phat +/- z/2sqrt(n)\n",
    "wayOne = np.round(p + z/(2*np.sqrt(n)),2)\n",
    "# Standard error (1/n * .2 *.8)\n",
    "wayTwo = np.round(p + 2 * np.sqrt((1/n) *.2 *.8),2)\n",
    "print(wayOne)\n",
    "print(wayTwo)"
   ]
  },
  {
   "cell_type": "markdown",
   "metadata": {},
   "source": [
    "### Quiz 6.15 Text Classification and Probability"
   ]
  },
  {
   "cell_type": "code",
   "execution_count": 141,
   "metadata": {},
   "outputs": [
    {
     "name": "stdout",
     "output_type": "stream",
     "text": [
      "Vocab size: 10\n",
      "P(Sports == Class) : 0.8\n",
      "P(word==Helment|Class==Sports): 0.3\n",
      "+1 smoothing: 0.2\n"
     ]
    }
   ],
   "source": [
    "data = ['Baseball','Helmet','Fans','Strike',\n",
    "       'Football','Helmet','Touchdown',\n",
    "       'Hoops',\n",
    "       'Motorcycle','Helmet','Light',\n",
    "       'Helmet','Ski']\n",
    "classes = ['Yes','Yes','Yes','No','Yes']\n",
    "\n",
    "# Q1: Vocab Size (unique count of words in training set)\n",
    "print(f'Vocab size: {len(set(data))}')\n",
    "\n",
    "# Q2: P(Class==Sports)\n",
    "sports = classes.count('Yes')/len(classes)\n",
    "print(f'P(Sports == Class) : {sports}')\n",
    "\n",
    "# Q3: Conditional Probabilties\n",
    "classes = ['Yes','Yes','Yes','Yes',\n",
    "          'Yes','Yes','Yes',\n",
    "          'Yes',\n",
    "          'No','No','No',\n",
    "          'Yes','Yes']\n",
    "dictt = {'words':data,'sports':classes}\n",
    "df = pd.DataFrame(data=dictt)\n",
    "\n",
    "# Numerator: Helment where helmet is present and class is sport\n",
    "#df[(df['words'] == 'Helmet') & (df['sports'] == 'Yes')]\n",
    "numerator = len(df[(df['words'] == 'Helmet') & (df['sports'] == 'Yes')])\n",
    "\n",
    "# Denominator: Words where class is sport\n",
    "#df[(df['sports'] == 'Yes')]\n",
    "denominator = len(df[(df['sports'] == 'Yes')])\n",
    "\n",
    "print(f'P(word==Helment|Class==Sports): {numerator/denominator}')\n",
    "\n",
    "# Q4: 1 + smoothing\n",
    "# Add vocab size to denominator and 1 to numerator\n",
    "\n",
    "print(f'+1 smoothing: {(3+1)/(10+10)}')"
   ]
  },
  {
   "cell_type": "code",
   "execution_count": 138,
   "metadata": {},
   "outputs": [
    {
     "data": {
      "text/plain": [
       "3"
      ]
     },
     "execution_count": 138,
     "metadata": {},
     "output_type": "execute_result"
    }
   ],
   "source": [
    "numerator"
   ]
  }
 ],
 "metadata": {
  "kernelspec": {
   "display_name": "Python 3",
   "language": "python",
   "name": "python3"
  },
  "language_info": {
   "codemirror_mode": {
    "name": "ipython",
    "version": 3
   },
   "file_extension": ".py",
   "mimetype": "text/x-python",
   "name": "python",
   "nbconvert_exporter": "python",
   "pygments_lexer": "ipython3",
   "version": "3.7.4"
  },
  "toc": {
   "base_numbering": 1,
   "nav_menu": {},
   "number_sections": true,
   "sideBar": true,
   "skip_h1_title": false,
   "title_cell": "Table of Contents",
   "title_sidebar": "Contents",
   "toc_cell": false,
   "toc_position": {},
   "toc_section_display": true,
   "toc_window_display": false
  }
 },
 "nbformat": 4,
 "nbformat_minor": 2
}
